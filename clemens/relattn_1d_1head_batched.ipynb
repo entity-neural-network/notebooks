{
  "cells": [
    {
      "cell_type": "code",
      "execution_count": 1,
      "metadata": {
        "collapsed": false
      },
      "outputs": [],
      "source": [
        "%matplotlib inline"
      ]
    },
    {
      "cell_type": "markdown",
      "metadata": {},
      "source": [
        "\n",
        "# Relative Positional Key Attention\n"
      ]
    },
    {
      "cell_type": "markdown",
      "metadata": {},
      "source": [
        "### Compute attn contribution between relative positional keys and queries"
      ]
    },
    {
      "cell_type": "code",
      "execution_count": 2,
      "metadata": {},
      "outputs": [
        {
          "name": "stdout",
          "output_type": "stream",
          "text": [
            "tensor([[[0],\n",
            "         [0],\n",
            "         [0],\n",
            "         [0],\n",
            "         [0],\n",
            "         [0],\n",
            "         [0]],\n",
            "\n",
            "        [[0],\n",
            "         [0],\n",
            "         [0],\n",
            "         [0],\n",
            "         [0],\n",
            "         [0],\n",
            "         [0]]], device='cuda:0')\n",
            "tensor([[2., 2., 2., 2., 2., 2., 2.],\n",
            "        [2., 2., 2., 2., 2., 2., 2.],\n",
            "        [2., 2., 2., 2., 2., 2., 2.],\n",
            "        [2., 2., 2., 2., 2., 2., 2.],\n",
            "        [0., 0., 0., 0., 0., 0., 0.],\n",
            "        [0., 0., 0., 0., 0., 0., 0.],\n",
            "        [0., 0., 0., 0., 0., 0., 0.]], device='cuda:0')\n",
            "tensor([[2., 2., 2., 2., 2., 2., 2.],\n",
            "        [2., 2., 2., 2., 2., 2., 2.],\n",
            "        [2., 2., 2., 2., 2., 2., 2.],\n",
            "        [2., 2., 2., 2., 2., 2., 2.],\n",
            "        [0., 0., 0., 0., 0., 0., 0.],\n",
            "        [0., 0., 0., 0., 0., 0., 0.],\n",
            "        [0., 0., 0., 0., 0., 0., 0.]], device='cuda:0')\n"
          ]
        }
      ],
      "source": [
        "# 1D relpos keys\n",
        "import torch\n",
        "\n",
        "import triton\n",
        "import triton.language as tl\n",
        "\n",
        "\n",
        "@triton.jit\n",
        "def relpos_key_attn_kernel(\n",
        "    x_ptr,             # (B, S, 1)\n",
        "    output_ptr,        # (B, S, S)\n",
        "    relpos_keys_ptr,   # (2 * extent + 1, DIMS)\n",
        "    queries_ptr,       # (B, S, DIMS)\n",
        "    dseq,              # Sequence length S\n",
        "    extent,\n",
        "    DIMS: tl.constexpr,   # Dimension of keys/queries\n",
        "    BLOCK_SIZE: tl.constexpr,  # Number of elements each program should process\n",
        "):\n",
        "    batch = tl.program_id(axis=0)\n",
        "    row = tl.program_id(axis=1)\n",
        "    colblock = tl.program_id(axis=2)\n",
        "\n",
        "    # Load positions\n",
        "    block_start = batch * dseq + colblock * BLOCK_SIZE\n",
        "    x_query_ptr = x_ptr + batch * dseq + row\n",
        "    x_key_offsets = block_start + tl.arange(0, BLOCK_SIZE)\n",
        "    x_key_ptrs = x_ptr + x_key_offsets\n",
        "    x_key_mask = colblock * BLOCK_SIZE + tl.arange(0, BLOCK_SIZE) < dseq\n",
        "    x_query = tl.load(x_query_ptr)\n",
        "    x_key = tl.load(x_key_ptrs, mask=x_key_mask)\n",
        "    # Compute relative positions\n",
        "    relpos = x_key - x_query\n",
        "    # Compute relative position key indices\n",
        "    relpos_indices = tl.minimum(tl.maximum(relpos, -extent), extent) + extent\n",
        "    # Load keys and queries\n",
        "    relpos_keys_ptrs = relpos_keys_ptr + (DIMS * relpos_indices[:, None] + tl.arange(0, DIMS)[None, :])\n",
        "    relpos_keys = tl.load(relpos_keys_ptrs)\n",
        "    query_ptrs = queries_ptr + batch * dseq * DIMS + row * DIMS + tl.arange(0, DIMS)[None, :]    \n",
        "    query = tl.load(query_ptrs)\n",
        "    output = tl.sum(relpos_keys * query, axis=1)\n",
        "\n",
        "    out_offsets = batch * dseq * dseq + colblock * BLOCK_SIZE + dseq * row + tl.arange(0, BLOCK_SIZE)\n",
        "    out_mask = colblock * BLOCK_SIZE + tl.arange(0, BLOCK_SIZE) < dseq\n",
        "    tl.store(output_ptr + out_offsets, output, mask=out_mask)\n",
        "\n",
        "\n",
        "def relpos_key_attn(\n",
        "    # positions\n",
        "    x: torch.Tensor,\n",
        "    # relative positional keys embedding (2 * extent + 1, dhead)\n",
        "    relpos_keys: torch.Tensor,\n",
        "    # queries (S, dhead)\n",
        "    queries: torch.Tensor,\n",
        "    # extent\n",
        "    extent\n",
        "):\n",
        "    batch, elements, feats = x.shape\n",
        "    nembed, dhead = relpos_keys.shape\n",
        "    _batch, _elements, _dhead = queries.shape\n",
        "    assert feats == 1\n",
        "    assert batch == _batch\n",
        "    assert elements == _elements\n",
        "    assert dhead == _dhead\n",
        "    assert nembed == 2 * extent + 1\n",
        "    # We need to preallocate the output\n",
        "    output = torch.empty((batch, elements, elements,), device=x.device, dtype=torch.float32)\n",
        "    #output = torch.full((batch, elements, elements,), 1337, dtype=torch.float32).to(x.device)\n",
        "    assert x.is_cuda and output.is_cuda\n",
        "    n_elements = elements\n",
        "    grid = lambda meta: (batch, n_elements, triton.cdiv(n_elements, meta['BLOCK_SIZE']),)\n",
        "    relpos_key_attn_kernel[grid](\n",
        "        x,\n",
        "        output,\n",
        "        relpos_keys,\n",
        "        queries,\n",
        "        n_elements,\n",
        "        extent,\n",
        "        DIMS=dhead,\n",
        "        BLOCK_SIZE=32,\n",
        "        num_warps=1,\n",
        "    )\n",
        "    # We return a handle to z but, since `torch.cuda.synchronize()` hasn't been called, the kernel is still\n",
        "    # running asynchronously at this point.\n",
        "    return output\n",
        "\n",
        "torch.manual_seed(0)\n",
        "\n",
        "positions = torch.tensor([\n",
        "    [[0], [-5], [0], [-13], [-5], [5], [100]],\n",
        "    [[0], [-5], [0], [-13], [0], [5], [3]],\n",
        "]).to('cuda')\n",
        "positions = torch.zeros((2, 7, 1), dtype=torch.int64).to('cuda')\n",
        "queries = torch.zeros(2, 7, 4).to('cuda')\n",
        "queries[:, :4] = torch.tensor([1.0, 1.0, -1.0, -1.0])\n",
        "queries[:, 5:] = torch.tensor([0.0, 0.0, 2.0, 0])\n",
        "relpos_keys = torch.zeros(11, 4).to('cuda')\n",
        "relpos_keys[:5] = torch.tensor([-0.5, -0.5, 1.0, 0])\n",
        "relpos_keys[5] = torch.tensor([1.0, 1.0, 0, 0])\n",
        "relpos_keys[6:] = torch.tensor([-0.5, -0.5, 0.0, 1.0])\n",
        "\n",
        "print(positions)\n",
        "output = relpos_key_attn(positions, relpos_keys, queries, 5)\n",
        "print(output[0])\n",
        "print(output[1])"
      ]
    },
    {
      "cell_type": "code",
      "execution_count": 3,
      "metadata": {},
      "outputs": [],
      "source": [
        "def relpos_key_attn_torch(\n",
        "    # positions\n",
        "    x: torch.Tensor,\n",
        "    # relative positional keys embedding (2 * extent + 1, dhead)\n",
        "    relpos_keys: torch.Tensor,\n",
        "    # queries (S, dhead)\n",
        "    queries: torch.Tensor,\n",
        "    # extent\n",
        "    extent\n",
        "):\n",
        "    extent = torch.tensor(extent).to(x.device)\n",
        "    dbatch, elements, feats = x.shape\n",
        "    nembed, dhead = relpos_keys.shape\n",
        "    assert feats == 1\n",
        "    assert nembed == 2 * extent + 1\n",
        "    assert queries.size(-1) == dhead\n",
        "\n",
        "    # Batch x Seq x Seq x Pos relative positions\n",
        "    relative_positions = x.squeeze(-1).unsqueeze(1) - x.unsqueeze(2).squeeze(-1)\n",
        "\n",
        "    clamped_positions = torch.max(\n",
        "        torch.min(\n",
        "            extent,  # type: ignore\n",
        "            relative_positions.long(),\n",
        "        ),\n",
        "        -extent,  # type: ignore\n",
        "    )\n",
        "    positive_positions = clamped_positions + extent\n",
        "    indices = positive_positions#(positive_positions * self.strides).sum(dim=-1).long()\n",
        "\n",
        "    # Batch x Seq x Seq x d_model\n",
        "    relkeys = relpos_keys[indices]\n",
        "\n",
        "    #if self.per_entity_values:\n",
        "    #    per_entity_type_indices = indices + (\n",
        "    #        entity_type * self.positions\n",
        "    #    ).transpose(2, 1).long().repeat(1, indices.size(2), 1)\n",
        "    #else:\n",
        "    #    per_entity_type_indices = indices\n",
        "    #values = self.values(per_entity_type_indices)\n",
        "    #print(relkeys.shape, queries.shape)\n",
        "    return torch.einsum(\"bstd,bsd->bst\", relkeys, queries)\n",
        "    #return torch.einsum(\"bhsd,bstd->bhst\", q, relkeys)\n",
        "    # * (\n",
        "    #    1.0 / math.sqrt(k.size(-1))\n",
        "    #)  # (B, nh, T, T)"
      ]
    },
    {
      "cell_type": "code",
      "execution_count": 4,
      "metadata": {
        "collapsed": false
      },
      "outputs": [
        {
          "name": "stdout",
          "output_type": "stream",
          "text": [
            "tensor([[30.2208, 29.7816, 29.7816,  ..., 29.7816, 30.6755, 34.9812],\n",
            "        [31.5203, 28.9670, 34.0328,  ..., 32.0844, 33.9999, 30.4027],\n",
            "        [31.6798, 29.2125, 27.1991,  ..., 30.8380, 31.6798, 31.6798],\n",
            "        ...,\n",
            "        [34.9031, 32.8088, 34.4261,  ..., 33.1806, 34.9031, 33.1504],\n",
            "        [28.7967, 30.4605, 29.9418,  ..., 29.9418, 29.7341, 29.6608],\n",
            "        [31.0516, 32.2823, 33.3266,  ..., 33.7131, 31.9300, 31.7409]],\n",
            "       device='cuda:0')\n",
            "tensor([[30.2208, 29.7816, 29.7816,  ..., 29.7816, 30.6755, 34.9812],\n",
            "        [31.5203, 28.9670, 34.0328,  ..., 32.0844, 33.9999, 30.4027],\n",
            "        [31.6798, 29.2125, 27.1991,  ..., 30.8380, 31.6798, 31.6798],\n",
            "        ...,\n",
            "        [34.9031, 32.8088, 34.4261,  ..., 33.1806, 34.9031, 33.1504],\n",
            "        [28.7967, 30.4605, 29.9418,  ..., 29.9418, 29.7341, 29.6608],\n",
            "        [31.0516, 32.2823, 33.3266,  ..., 33.7132, 31.9300, 31.7409]],\n",
            "       device='cuda:0')\n",
            "The maximum difference between torch and triton is 1.1444091796875e-05\n"
          ]
        }
      ],
      "source": [
        "dhead = 128\n",
        "size = 80\n",
        "dbatch = 64\n",
        "x = (torch.rand((dbatch, size, 1), device='cuda', dtype=torch.float32) * 10).long()\n",
        "queries = torch.rand((dbatch, size, dhead), device='cuda', dtype=torch.float32)\n",
        "embeddings = torch.rand((2 * 5 + 1, dhead), device='cuda', dtype=torch.float32)\n",
        "output_triton = relpos_key_attn(x, embeddings, queries, 5)\n",
        "output_torch = relpos_key_attn_torch(x, embeddings, queries, 5)\n",
        "print(output_torch[1])\n",
        "print(output_triton[1])\n",
        "print(\n",
        "    f'The maximum difference between torch and triton is '\n",
        "    f'{torch.max(torch.abs(output_torch - output_triton))}'\n",
        ")"
      ]
    },
    {
      "cell_type": "markdown",
      "metadata": {},
      "source": [
        "We can now use the above function to compute the element-wise sum of two `torch.tensor` objects and test its correctness:\n",
        "\n"
      ]
    },
    {
      "cell_type": "markdown",
      "metadata": {},
      "source": [
        "Seems like we're good to go!\n",
        "\n"
      ]
    },
    {
      "cell_type": "markdown",
      "metadata": {},
      "source": [
        "## Benchmark\n",
        "We can now benchmark our custom op on vectors of increasing sizes to get a sense of how it does relative to PyTorch.\n",
        "To make things easier, Triton has a set of built-in utilities that allow us to concisely plot the performance of your custom ops\n",
        "for different problem sizes.\n",
        "\n"
      ]
    },
    {
      "cell_type": "code",
      "execution_count": 5,
      "metadata": {
        "collapsed": false
      },
      "outputs": [],
      "source": [
        "@triton.testing.perf_report(\n",
        "    triton.testing.Benchmark(\n",
        "        x_names=['size'],  # argument names to use as an x-axis for the plot\n",
        "        x_vals=[\n",
        "            2 ** i for i in range(1, 11, 1)\n",
        "        ],  # different possible values for `x_name`\n",
        "        x_log=True,  # x axis is logarithmic\n",
        "        line_arg='provider',  # argument name whose value corresponds to a different line in the plot\n",
        "        line_vals=['triton', 'torch'],  # possible values for `line_arg`\n",
        "        #line_vals=['triton'],#, 'torch'],  # possible values for `line_arg`\n",
        "        line_names=['Triton', 'Torch'],  # label name for the lines\n",
        "        styles=[('blue', '-'), ('green', '-')],  # line styles\n",
        "        ylabel='GB/s',  # label name for the y-axis\n",
        "        plot_name='relpos-keyattn-performance',  # name for the plot. Used also as a file name for saving the plot.\n",
        "        args={},  # values for function arguments not in `x_names` and `y_name`\n",
        "    )\n",
        ")\n",
        "def benchmark(size, provider):\n",
        "    dhead = 128\n",
        "    dseq = 50\n",
        "    x = (torch.rand((size, dseq, 1), device='cuda', dtype=torch.float32)).long()\n",
        "    queries = torch.rand((size, dseq, dhead), device='cuda', dtype=torch.float32)\n",
        "    embeddings = torch.rand((2 * 5 + 1, dhead), device='cuda', dtype=torch.float32)\n",
        "\n",
        "    #y = (torch.rand(size, device='cuda', dtype=torch.float32) * 10).long()\n",
        "    if provider == 'torch':\n",
        "        ms, min_ms, max_ms = triton.testing.do_bench(lambda: relpos_key_attn_torch(x, embeddings, queries, 5))\n",
        "    if provider == 'triton':\n",
        "        ms, min_ms, max_ms = triton.testing.do_bench(lambda: relpos_key_attn(x, embeddings, queries, 5))\n",
        "    # gbps = lambda ms: 4 * dhead * size * dseq / ms * 1e-6\n",
        "    gbps = lambda ms: 4 * dhead * size * dseq / ms * 1e-6\n",
        "    return gbps(ms), gbps(max_ms), gbps(min_ms)"
      ]
    },
    {
      "cell_type": "markdown",
      "metadata": {},
      "source": [
        "We can now run the decorated function above. Pass `print_data=True` to see the performance number, `show_plots=True` to plot them, and/or\n",
        "`save_path='/path/to/results/' to save them to disk along with raw CSV data\n",
        "\n"
      ]
    },
    {
      "cell_type": "code",
      "execution_count": 6,
      "metadata": {
        "collapsed": false
      },
      "outputs": [
        {
          "data": {
            "image/png": "[encoded data removed]",
            "text/plain": [
              "<Figure size 432x288 with 1 Axes>"
            ]
          },
          "metadata": {
            "needs_background": "light"
          },
          "output_type": "display_data"
        },
        {
          "name": "stdout",
          "output_type": "stream",
          "text": [
            "relpos-keyattn-performance:\n",
            "     size    Triton     Torch\n",
            "0     2.0  3.149606  0.261780\n",
            "1     4.0  6.765328  0.503501\n",
            "2     8.0  7.950310  1.051939\n",
            "3    16.0  8.584843  1.778272\n",
            "4    32.0  8.891976  2.877374\n",
            "5    64.0  9.098987  3.777483\n",
            "6   128.0  9.236875  4.459153\n",
            "7   256.0  9.223979  4.778850\n",
            "8   512.0  9.205528  4.834351\n",
            "9  1024.0  9.172339  4.893989\n"
          ]
        }
      ],
      "source": [
        "benchmark.run(print_data=True, show_plots=True)"
      ]
    },
    {
      "cell_type": "code",
      "execution_count": null,
      "metadata": {},
      "outputs": [],
      "source": []
    },
    {
      "cell_type": "code",
      "execution_count": null,
      "metadata": {},
      "outputs": [],
      "source": []
    }
  ],
  "metadata": {
    "kernelspec": {
      "display_name": "Python 3",
      "language": "python",
      "name": "python3"
    },
    "language_info": {
      "codemirror_mode": {
        "name": "ipython",
        "version": 3
      },
      "file_extension": ".py",
      "mimetype": "text/x-python",
      "name": "python",
      "nbconvert_exporter": "python",
      "pygments_lexer": "ipython3",
      "version": "3.8.10"
    }
  },
  "nbformat": 4,
  "nbformat_minor": 0
}
